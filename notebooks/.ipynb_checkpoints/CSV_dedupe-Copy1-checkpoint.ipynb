{
 "cells": [
  {
   "cell_type": "markdown",
   "metadata": {},
   "source": [
    "https://dedupeio.github.io/dedupe-examples/docs/csv_example.html"
   ]
  },
  {
   "cell_type": "markdown",
   "metadata": {},
   "source": [
    "This code demonstrates how to use dedupe with a comma separated values (CSV) file. All operations are performed in memory, so will run very quickly on datasets up to ~10,000 rows.\n",
    "\n",
    "We start with a CSV file containing our messy data. In this example, it is listings of early childhood education centers in Chicago compiled from several different sources.\n",
    "\n",
    "The output will be a CSV with our clustered results."
   ]
  },
  {
   "cell_type": "code",
   "execution_count": 1,
   "metadata": {},
   "outputs": [],
   "source": [
    "import os\n",
    "import csv\n",
    "import re\n",
    "import logging\n",
    "import optparse\n",
    "from future.builtins import next\n",
    "import dedupe\n",
    "from unidecode import unidecode"
   ]
  },
  {
   "cell_type": "markdown",
   "metadata": {},
   "source": [
    "# Logging\n",
    "Dedupe uses Python logging to show or suppress verbose output. This code block lets you change the level of loggin on the command line. You don't need it if you don't want that. To enable verbose logging, run python examples/csv_example/csv_example.py -v"
   ]
  },
  {
   "cell_type": "code",
   "execution_count": 2,
   "metadata": {},
   "outputs": [
    {
     "name": "stderr",
     "output_type": "stream",
     "text": [
      "Usage: ipykernel_launcher.py [options]\n",
      "\n",
      "ipykernel_launcher.py: error: no such option: -f\n"
     ]
    },
    {
     "ename": "SystemExit",
     "evalue": "2",
     "output_type": "error",
     "traceback": [
      "An exception has occurred, use %tb to see the full traceback.\n",
      "\u001b[0;31mSystemExit\u001b[0m\u001b[0;31m:\u001b[0m 2\n"
     ]
    },
    {
     "name": "stderr",
     "output_type": "stream",
     "text": [
      "/opt/conda/lib/python3.6/site-packages/IPython/core/interactiveshell.py:2918: UserWarning: To exit: use 'exit', 'quit', or Ctrl-D.\n",
      "  warn(\"To exit: use 'exit', 'quit', or Ctrl-D.\", stacklevel=1)\n"
     ]
    }
   ],
   "source": [
    "optp = optparse.OptionParser()\n",
    "optp.add_option('-v', '--verbose', dest='verbose', action='count',\n",
    "                help='Increase verbosity (specify multiple times for more)'\n",
    "                )\n",
    "(opts, args) = optp.parse_args()\n",
    "log_level = logging.WARNING \n",
    "if opts.verbose:\n",
    "    if opts.verbose == 1:\n",
    "        log_level = logging.INFO\n",
    "    elif opts.verbose >= 2:\n",
    "        log_level = logging.DEBUG\n",
    "logging.getLogger().setLevel(log_level)"
   ]
  },
  {
   "cell_type": "markdown",
   "metadata": {},
   "source": [
    "# Setup\n",
    "Do a little bit of data cleaning with the help of Unidecode and Regex. Things like casing, extra spaces, quotes and new lines can be ignored.  If data is missing, indicate that by setting the value to None"
   ]
  },
  {
   "cell_type": "code",
   "execution_count": 3,
   "metadata": {},
   "outputs": [
    {
     "data": {
      "text/plain": [
       "'/home/jovyan/work'"
      ]
     },
     "execution_count": 3,
     "metadata": {},
     "output_type": "execute_result"
    }
   ],
   "source": [
    "os.getcwd()"
   ]
  },
  {
   "cell_type": "code",
   "execution_count": 46,
   "metadata": {},
   "outputs": [],
   "source": [
    "csv_file_directory = '/home/jovyan/work/csv_files/'\n",
    "input_file = csv_file_directory + 'csv_customer_input.csv'\n",
    "#input_file = csv_file_directory + 'csv_example_messy_input.csv' \n",
    "output_file = csv_file_directory+ 'csv_customer_output.csv'"
   ]
  },
  {
   "cell_type": "code",
   "execution_count": 47,
   "metadata": {},
   "outputs": [],
   "source": [
    "settings_directory = '/home/jovyan/work/training_settings/'\n",
    "settings_file = settings_directory + 'csv_example_learned_settings'\n",
    "training_file = settings_directory + 'csv_example_training.json'"
   ]
  },
  {
   "cell_type": "code",
   "execution_count": 48,
   "metadata": {},
   "outputs": [],
   "source": [
    "# directory = '/home/jovyan/work/dedupe/dedupe-examples/csv_example/'\n",
    "# input_file = directory + 'csv_example_messy_input.csv'\n",
    "# output_file = directory + 'csv_example_output.csv'\n",
    "# settings_file = directory + 'csv_example_learned_settings'\n",
    "# training_file = directory + 'csv_example_training.json'"
   ]
  },
  {
   "cell_type": "code",
   "execution_count": 49,
   "metadata": {},
   "outputs": [],
   "source": [
    "def preProcess(column):\n",
    "    try : # python 2/3 string differences\n",
    "        column = column.decode('utf8')\n",
    "    except AttributeError:\n",
    "        pass\n",
    "    column = unidecode(column)\n",
    "    column = re.sub('  +', ' ', column)\n",
    "    column = re.sub('\\n', ' ', column)\n",
    "    column = column.strip().strip('\"').strip(\"'\").lower().strip()\n",
    "    \n",
    "    if not column:\n",
    "        column = None\n",
    "    return column"
   ]
  },
  {
   "cell_type": "code",
   "execution_count": 66,
   "metadata": {},
   "outputs": [],
   "source": [
    "import sys\n",
    "\n",
    "def readData(filename):\n",
    "#\n",
    "    data_d = {}\n",
    "    with open(filename, encoding=\"utf-8-sig\") as f:\n",
    "        reader = csv.DictReader(f)\n",
    "        rowcount = 0\n",
    "        try:\n",
    "            for row in reader:\n",
    "                rowcount += 1\n",
    "                clean_row = [(k, preProcess(v)) for (k, v) in row.items()]\n",
    "                row_id = int(row['Id'])\n",
    "                data_d[row_id] = dict(clean_row)\n",
    "        except:\n",
    "            print(\"Unexpected error:\", sys.exc_info()[0])\n",
    "            print(\"Row %d dump:\" % (rowcount))\n",
    "            print(row)\n",
    "\n",
    "    return data_d"
   ]
  },
  {
   "cell_type": "code",
   "execution_count": 67,
   "metadata": {},
   "outputs": [
    {
     "name": "stdout",
     "output_type": "stream",
     "text": [
      "importing data ...\n"
     ]
    }
   ],
   "source": [
    "print('importing data ...')\n",
    "data_d = readData(input_file)"
   ]
  },
  {
   "cell_type": "code",
   "execution_count": 68,
   "metadata": {},
   "outputs": [
    {
     "name": "stderr",
     "output_type": "stream",
     "text": [
      "INFO:dedupe.canopy_index:Removing stop word  t\n",
      "INFO:dedupe.canopy_index:Removing stop word es\n",
      "INFO:dedupe.canopy_index:Removing stop word nc\n",
      "INFO:dedupe.canopy_index:Removing stop word ri\n",
      "INFO:dedupe.canopy_index:Removing stop word s \n",
      "INFO:dedupe.canopy_index:Removing stop word to\n",
      "INFO:dedupe.canopy_index:Removing stop word an\n",
      "INFO:dedupe.canopy_index:Removing stop word el\n",
      "INFO:dedupe.canopy_index:Removing stop word sa\n",
      "INFO:dedupe.canopy_index:Removing stop word  a\n",
      "INFO:dedupe.canopy_index:Removing stop word er\n",
      "INFO:dedupe.canopy_index:Removing stop word li\n",
      "INFO:dedupe.canopy_index:Removing stop word ne\n",
      "INFO:dedupe.canopy_index:Removing stop word r \n",
      "INFO:dedupe.canopy_index:Removing stop word un\n",
      "INFO:dedupe.canopy_index:Removing stop word o \n",
      "INFO:dedupe.canopy_index:Removing stop word ro\n",
      "INFO:dedupe.canopy_index:Removing stop word le\n",
      "INFO:dedupe.canopy_index:Removing stop word tr\n",
      "INFO:dedupe.canopy_index:Removing stop word  c\n",
      "INFO:dedupe.canopy_index:Removing stop word al\n",
      "INFO:dedupe.canopy_index:Removing stop word co\n",
      "INFO:dedupe.canopy_index:Removing stop word ho\n",
      "INFO:dedupe.canopy_index:Removing stop word on\n",
      "INFO:dedupe.canopy_index:Removing stop word po\n",
      "INFO:dedupe.canopy_index:Removing stop word st\n",
      "INFO:dedupe.canopy_index:Removing stop word ti\n",
      "INFO:dedupe.canopy_index:Removing stop word  h\n",
      "INFO:dedupe.canopy_index:Removing stop word ea\n",
      "INFO:dedupe.canopy_index:Removing stop word en\n",
      "INFO:dedupe.canopy_index:Removing stop word h \n",
      "INFO:dedupe.canopy_index:Removing stop word ic\n",
      "INFO:dedupe.canopy_index:Removing stop word lt\n",
      "INFO:dedupe.canopy_index:Removing stop word nt\n",
      "INFO:dedupe.canopy_index:Removing stop word si\n",
      "INFO:dedupe.canopy_index:Removing stop word th\n",
      "INFO:dedupe.canopy_index:Removing stop word ut\n",
      "INFO:dedupe.canopy_index:Removing stop word  l\n",
      "INFO:dedupe.canopy_index:Removing stop word a \n",
      "INFO:dedupe.canopy_index:Removing stop word ci\n",
      "INFO:dedupe.canopy_index:Removing stop word di\n",
      "INFO:dedupe.canopy_index:Removing stop word g \n",
      "INFO:dedupe.canopy_index:Removing stop word la\n",
      "INFO:dedupe.canopy_index:Removing stop word nd\n",
      "INFO:dedupe.canopy_index:Removing stop word  p\n",
      "INFO:dedupe.canopy_index:Removing stop word ed\n",
      "INFO:dedupe.canopy_index:Removing stop word ie\n",
      "INFO:dedupe.canopy_index:Removing stop word lo\n",
      "INFO:dedupe.canopy_index:Removing stop word ta\n",
      "INFO:dedupe.canopy_index:Removing stop word  f\n",
      "INFO:dedupe.canopy_index:Removing stop word  m\n",
      "INFO:dedupe.canopy_index:Removing stop word ma\n",
      "INFO:dedupe.canopy_index:Removing stop word ns\n",
      "INFO:dedupe.canopy_index:Removing stop word us\n",
      "INFO:dedupe.canopy_index:Removing stop word ca\n",
      "INFO:dedupe.canopy_index:Removing stop word ia\n",
      "INFO:dedupe.canopy_index:Removing stop word re\n",
      "INFO:dedupe.canopy_index:Removing stop word n \n",
      "INFO:dedupe.canopy_index:Removing stop word se\n",
      "INFO:dedupe.canopy_index:Removing stop word pa\n",
      "INFO:dedupe.canopy_index:Removing stop word l \n",
      "INFO:dedupe.canopy_index:Removing stop word vi\n",
      "INFO:dedupe.canopy_index:Removing stop word na\n",
      "INFO:dedupe.canopy_index:Removing stop word me\n",
      "INFO:dedupe.canopy_index:Removing stop word ge\n",
      "INFO:dedupe.canopy_index:Removing stop word rt\n",
      "INFO:dedupe.canopy_index:Removing stop word as\n",
      "INFO:dedupe.canopy_index:Removing stop word om\n",
      "INFO:dedupe.canopy_index:Removing stop word de\n",
      "INFO:dedupe.canopy_index:Removing stop word ll\n",
      "INFO:dedupe.canopy_index:Removing stop word td\n",
      "INFO:dedupe.canopy_index:Removing stop word of\n",
      "INFO:dedupe.canopy_index:Removing stop word inc\n",
      "INFO:dedupe.canopy_index:Removing stop word ltd\n"
     ]
    },
    {
     "name": "stdout",
     "output_type": "stream",
     "text": [
      "starting active labeling...\n"
     ]
    }
   ],
   "source": [
    "if os.path.exists(settings_file):\n",
    "    print('reading from', settings_file)\n",
    "    with open(settings_file, 'rb') as f:\n",
    "        deduper = dedupe.StaticDedupe(f)\n",
    "else:\n",
    "    \n",
    "    \n",
    "    \n",
    "    fields = [\n",
    "        {'field' : 'Account_Name', 'type': 'String'},\n",
    "        {'field' : 'Billing', 'type': 'String'},\n",
    "        {'field' : 'Industry', 'type': 'String'},\n",
    "        ]\n",
    "    deduper = dedupe.Dedupe(fields)\n",
    "    \n",
    "    \n",
    "    deduper.sample(data_d, 15000)\n",
    "    \n",
    "    if os.path.exists(training_file):\n",
    "        print('reading labeled examples from ', training_file)\n",
    "        with open(training_file, 'rb') as f:\n",
    "            deduper.readTraining(f)\n",
    "            \n",
    "    print('starting active labeling...')"
   ]
  },
  {
   "cell_type": "code",
   "execution_count": 69,
   "metadata": {},
   "outputs": [
    {
     "name": "stderr",
     "output_type": "stream",
     "text": [
      "Account_Name : adetel groupe\n",
      "Billing : None\n",
      "Industry : banking & insurance\n",
      "\n",
      "Account_Name : agena gmbh\n",
      "Billing : None\n",
      "Industry : technology\n",
      "\n",
      "0/10 positive, 0/10 negative\n",
      "Do these records refer to the same thing?\n",
      "(y)es / (n)o / (u)nsure / (f)inished\n"
     ]
    },
    {
     "name": "stdout",
     "output_type": "stream",
     "text": [
      "n\n"
     ]
    },
    {
     "name": "stderr",
     "output_type": "stream",
     "text": [
      "Account_Name : boustead naval shipyard sdn bhd\n",
      "Billing : None\n",
      "Industry : transportation\n",
      "\n",
      "Account_Name : efficient softech sdn bhd\n",
      "Billing : asean\n",
      "Industry : technology\n",
      "\n",
      "0/10 positive, 1/10 negative\n",
      "Do these records refer to the same thing?\n",
      "(y)es / (n)o / (u)nsure / (f)inished / (p)revious\n"
     ]
    },
    {
     "name": "stdout",
     "output_type": "stream",
     "text": [
      "n\n"
     ]
    },
    {
     "name": "stderr",
     "output_type": "stream",
     "text": [
      "Account_Name : bridgestone\n",
      "Billing : None\n",
      "Industry : None\n",
      "\n",
      "Account_Name : bridgestone\n",
      "Billing : sao paulo\n",
      "Industry : manufacturing\n",
      "\n",
      "0/10 positive, 2/10 negative\n",
      "Do these records refer to the same thing?\n",
      "(y)es / (n)o / (u)nsure / (f)inished / (p)revious\n"
     ]
    },
    {
     "name": "stdout",
     "output_type": "stream",
     "text": [
      "y\n"
     ]
    },
    {
     "name": "stderr",
     "output_type": "stream",
     "text": [
      "Account_Name : csl behring gmbh\n",
      "Billing : None\n",
      "Industry : healthcare\n",
      "\n",
      "Account_Name : house of commons\n",
      "Billing : ontario\n",
      "Industry : government\n",
      "\n",
      "1/10 positive, 2/10 negative\n",
      "Do these records refer to the same thing?\n",
      "(y)es / (n)o / (u)nsure / (f)inished / (p)revious\n"
     ]
    },
    {
     "name": "stdout",
     "output_type": "stream",
     "text": [
      "n\n"
     ]
    },
    {
     "name": "stderr",
     "output_type": "stream",
     "text": [
      "INFO:dedupe.training:Final predicate set:\n",
      "INFO:dedupe.training:(SimplePredicate: (commonSixGram, Account_Name), SimplePredicate: (wholeFieldPredicate, Account_Name))\n",
      "Account_Name : farmoquimica - fqm\n",
      "Billing : rio de janeiro\n",
      "Industry : chemicals\n",
      "\n",
      "Account_Name : sinopec exploration and production (brazil) ltda.\n",
      "Billing : rio de janeiro\n",
      "Industry : chemicals\n",
      "\n",
      "1/10 positive, 3/10 negative\n",
      "Do these records refer to the same thing?\n",
      "(y)es / (n)o / (u)nsure / (f)inished / (p)revious\n"
     ]
    },
    {
     "name": "stdout",
     "output_type": "stream",
     "text": [
      "n\n"
     ]
    },
    {
     "name": "stderr",
     "output_type": "stream",
     "text": [
      "Account_Name : city of brooks\n",
      "Billing : alberta\n",
      "Industry : government\n",
      "\n",
      "Account_Name : city of garland\n",
      "Billing : tx\n",
      "Industry : government\n",
      "\n",
      "1/10 positive, 4/10 negative\n",
      "Do these records refer to the same thing?\n",
      "(y)es / (n)o / (u)nsure / (f)inished / (p)revious\n"
     ]
    },
    {
     "name": "stdout",
     "output_type": "stream",
     "text": [
      "n\n"
     ]
    },
    {
     "name": "stderr",
     "output_type": "stream",
     "text": [
      "Account_Name : csl behring\n",
      "Billing : emea\n",
      "Industry : healthcare\n",
      "\n",
      "Account_Name : csl behring\n",
      "Billing : il\n",
      "Industry : transportation\n",
      "\n",
      "1/10 positive, 5/10 negative\n",
      "Do these records refer to the same thing?\n",
      "(y)es / (n)o / (u)nsure / (f)inished / (p)revious\n"
     ]
    },
    {
     "name": "stdout",
     "output_type": "stream",
     "text": [
      "y\n"
     ]
    },
    {
     "name": "stderr",
     "output_type": "stream",
     "text": [
      "Account_Name : bluestem brands, inc.\n",
      "Billing : minnesota\n",
      "Industry : services\n",
      "\n",
      "Account_Name : bluestem brands, inc.\n",
      "Billing : mn\n",
      "Industry : wholesale & retail\n",
      "\n",
      "2/10 positive, 5/10 negative\n",
      "Do these records refer to the same thing?\n",
      "(y)es / (n)o / (u)nsure / (f)inished / (p)revious\n"
     ]
    },
    {
     "name": "stdout",
     "output_type": "stream",
     "text": [
      "y\n"
     ]
    },
    {
     "name": "stderr",
     "output_type": "stream",
     "text": [
      "Account_Name : helvetia schweizerische versicherungsgesellschaft ag(former nationale suisse )\n",
      "Billing : basel-stadt\n",
      "Industry : banking & insurance\n",
      "\n",
      "Account_Name : ikomm as\n",
      "Billing : na\n",
      "Industry : technology\n",
      "\n",
      "3/10 positive, 5/10 negative\n",
      "Do these records refer to the same thing?\n",
      "(y)es / (n)o / (u)nsure / (f)inished / (p)revious\n"
     ]
    },
    {
     "name": "stdout",
     "output_type": "stream",
     "text": [
      "n\n"
     ]
    },
    {
     "name": "stderr",
     "output_type": "stream",
     "text": [
      "Account_Name : hainan radio and tv university\n",
      "Billing : hainan\n",
      "Industry : healthcare\n",
      "\n",
      "Account_Name : nehta\n",
      "Billing : nsw\n",
      "Industry : government\n",
      "\n",
      "3/10 positive, 6/10 negative\n",
      "Do these records refer to the same thing?\n",
      "(y)es / (n)o / (u)nsure / (f)inished / (p)revious\n"
     ]
    },
    {
     "name": "stdout",
     "output_type": "stream",
     "text": [
      "n\n"
     ]
    },
    {
     "name": "stderr",
     "output_type": "stream",
     "text": [
      "Account_Name : aecom\n",
      "Billing : na\n",
      "Industry : construction\n",
      "\n",
      "Account_Name : aecom\n",
      "Billing : co\n",
      "Industry : construction\n",
      "\n",
      "3/10 positive, 7/10 negative\n",
      "Do these records refer to the same thing?\n",
      "(y)es / (n)o / (u)nsure / (f)inished / (p)revious\n"
     ]
    },
    {
     "name": "stdout",
     "output_type": "stream",
     "text": [
      "y\n"
     ]
    },
    {
     "name": "stderr",
     "output_type": "stream",
     "text": [
      "Account_Name : north east independent school district\n",
      "Billing : tx\n",
      "Industry : education\n",
      "\n",
      "Account_Name : northside independent school district\n",
      "Billing : tx\n",
      "Industry : education\n",
      "\n",
      "4/10 positive, 7/10 negative\n",
      "Do these records refer to the same thing?\n",
      "(y)es / (n)o / (u)nsure / (f)inished / (p)revious\n"
     ]
    },
    {
     "name": "stdout",
     "output_type": "stream",
     "text": [
      "y\n"
     ]
    },
    {
     "name": "stderr",
     "output_type": "stream",
     "text": [
      "INFO:dedupe.training:Final predicate set:\n",
      "INFO:dedupe.training:(SimplePredicate: (commonSixGram, Account_Name), SimplePredicate: (wholeFieldPredicate, Account_Name))\n",
      "INFO:dedupe.training:(SimplePredicate: (twoGramFingerprint, Industry), SimplePredicate: (wholeFieldPredicate, Account_Name))\n",
      "Account_Name : central nippon highway engineering nagoya company limited\n",
      "Billing : aichi\n",
      "Industry : construction\n",
      "\n",
      "Account_Name : nnit\n",
      "Billing : dk\n",
      "Industry : consulting\n",
      "\n",
      "5/10 positive, 7/10 negative\n",
      "Do these records refer to the same thing?\n",
      "(y)es / (n)o / (u)nsure / (f)inished / (p)revious\n"
     ]
    },
    {
     "name": "stdout",
     "output_type": "stream",
     "text": [
      "n\n"
     ]
    },
    {
     "name": "stderr",
     "output_type": "stream",
     "text": [
      "INFO:dedupe.training:Final predicate set:\n",
      "INFO:dedupe.training:(SimplePredicate: (commonSixGram, Account_Name), SimplePredicate: (wholeFieldPredicate, Account_Name))\n",
      "INFO:dedupe.training:(SimplePredicate: (twoGramFingerprint, Industry), SimplePredicate: (wholeFieldPredicate, Account_Name))\n",
      "INFO:dedupe.training:(SimplePredicate: (commonTwoTokens, Account_Name), SimplePredicate: (doubleMetaphone, Account_Name))\n",
      "Account_Name : scottsdale unified school district\n",
      "Billing : az\n",
      "Industry : education\n",
      "\n",
      "Account_Name : tucson unified school district\n",
      "Billing : az\n",
      "Industry : education\n",
      "\n",
      "5/10 positive, 8/10 negative\n",
      "Do these records refer to the same thing?\n",
      "(y)es / (n)o / (u)nsure / (f)inished / (p)revious\n"
     ]
    },
    {
     "name": "stdout",
     "output_type": "stream",
     "text": [
      "y\n"
     ]
    },
    {
     "name": "stderr",
     "output_type": "stream",
     "text": [
      "Account_Name : china mobile communications group jiangsu co., ltd. changzhou branch\n",
      "Billing : jiangsu\n",
      "Industry : communications\n",
      "\n",
      "Account_Name : china mobile hangzhou\n",
      "Billing : hong kong\n",
      "Industry : communications\n",
      "\n",
      "6/10 positive, 8/10 negative\n",
      "Do these records refer to the same thing?\n",
      "(y)es / (n)o / (u)nsure / (f)inished / (p)revious\n"
     ]
    },
    {
     "name": "stdout",
     "output_type": "stream",
     "text": [
      "u\n"
     ]
    },
    {
     "name": "stderr",
     "output_type": "stream",
     "text": [
      "INFO:dedupe.training:Final predicate set:\n",
      "INFO:dedupe.training:(SimplePredicate: (commonSixGram, Account_Name), SimplePredicate: (wholeFieldPredicate, Account_Name))\n",
      "INFO:dedupe.training:(SimplePredicate: (twoGramFingerprint, Industry), SimplePredicate: (wholeFieldPredicate, Account_Name))\n",
      "INFO:dedupe.training:(SimplePredicate: (commonTwoTokens, Account_Name), SimplePredicate: (doubleMetaphone, Account_Name))\n",
      "INFO:dedupe.training:(TfidfTextCanopyPredicate: (0.6, Account_Name), TfidfTextCanopyPredicate: (0.8, Billing))\n",
      "Account_Name : wuhan public security bureau\n",
      "Billing : hu\n",
      "Industry : government\n",
      "\n",
      "Account_Name : yantai public security bureau\n",
      "Billing : sd\n",
      "Industry : government\n",
      "\n",
      "6/10 positive, 8/10 negative\n",
      "Do these records refer to the same thing?\n",
      "(y)es / (n)o / (u)nsure / (f)inished / (p)revious\n"
     ]
    },
    {
     "name": "stdout",
     "output_type": "stream",
     "text": [
      "n\n"
     ]
    },
    {
     "name": "stderr",
     "output_type": "stream",
     "text": [
      "Account_Name : chl\n",
      "Billing : None\n",
      "Industry : healthcare\n",
      "\n",
      "Account_Name : cook medical\n",
      "Billing : qld\n",
      "Industry : healthcare\n",
      "\n",
      "6/10 positive, 9/10 negative\n",
      "Do these records refer to the same thing?\n",
      "(y)es / (n)o / (u)nsure / (f)inished / (p)revious\n"
     ]
    },
    {
     "name": "stdout",
     "output_type": "stream",
     "text": [
      "n\n"
     ]
    },
    {
     "name": "stderr",
     "output_type": "stream",
     "text": [
      "Account_Name : g1\n",
      "Billing : None\n",
      "Industry : recreation\n",
      "\n",
      "Account_Name : singapore institute of technology\n",
      "Billing : None\n",
      "Industry : education\n",
      "\n",
      "6/10 positive, 10/10 negative\n",
      "Do these records refer to the same thing?\n",
      "(y)es / (n)o / (u)nsure / (f)inished / (p)revious\n"
     ]
    },
    {
     "name": "stdout",
     "output_type": "stream",
     "text": [
      "n\n"
     ]
    },
    {
     "name": "stderr",
     "output_type": "stream",
     "text": [
      "Account_Name : school district 22 (vernon)\n",
      "Billing : british columbia\n",
      "Industry : education\n",
      "\n",
      "Account_Name : school district 44 (north vancouver)\n",
      "Billing : british columbia\n",
      "Industry : education\n",
      "\n",
      "6/10 positive, 11/10 negative\n",
      "Do these records refer to the same thing?\n",
      "(y)es / (n)o / (u)nsure / (f)inished / (p)revious\n"
     ]
    },
    {
     "name": "stdout",
     "output_type": "stream",
     "text": [
      "y\n"
     ]
    },
    {
     "name": "stderr",
     "output_type": "stream",
     "text": [
      "Account_Name : university of aberdeen\n",
      "Billing : aberdeenshire\n",
      "Industry : education\n",
      "\n",
      "Account_Name : university of brighton\n",
      "Billing : brighton\n",
      "Industry : education\n",
      "\n",
      "7/10 positive, 11/10 negative\n",
      "Do these records refer to the same thing?\n",
      "(y)es / (n)o / (u)nsure / (f)inished / (p)revious\n"
     ]
    },
    {
     "name": "stdout",
     "output_type": "stream",
     "text": [
      "n\n"
     ]
    },
    {
     "name": "stderr",
     "output_type": "stream",
     "text": [
      "INFO:dedupe.training:Final predicate set:\n",
      "INFO:dedupe.training:(SimplePredicate: (commonSixGram, Account_Name), SimplePredicate: (wholeFieldPredicate, Account_Name))\n",
      "INFO:dedupe.training:(SimplePredicate: (twoGramFingerprint, Industry), SimplePredicate: (wholeFieldPredicate, Account_Name))\n",
      "INFO:dedupe.training:(SimplePredicate: (commonTwoTokens, Account_Name), SimplePredicate: (doubleMetaphone, Account_Name))\n",
      "INFO:dedupe.training:(SimplePredicate: (hundredIntegersOddPredicate, Account_Name), TfidfTextCanopyPredicate: (0.8, Billing))\n",
      "INFO:dedupe.training:(TfidfTextCanopyPredicate: (0.6, Account_Name), TfidfTextCanopyPredicate: (0.8, Billing))\n",
      "Account_Name : county of placer\n",
      "Billing : ca\n",
      "Industry : government\n",
      "\n",
      "Account_Name : county of tulare- sheriff's office\n",
      "Billing : ca\n",
      "Industry : government\n",
      "\n",
      "7/10 positive, 12/10 negative\n",
      "Do these records refer to the same thing?\n",
      "(y)es / (n)o / (u)nsure / (f)inished / (p)revious\n"
     ]
    },
    {
     "name": "stdout",
     "output_type": "stream",
     "text": [
      "n\n"
     ]
    },
    {
     "name": "stderr",
     "output_type": "stream",
     "text": [
      "Account_Name : dst worldwide services (thailand) limited\n",
      "Billing : bangkok\n",
      "Industry : technology\n",
      "\n",
      "Account_Name : it one\n",
      "Billing : bangkok\n",
      "Industry : technology\n",
      "\n",
      "7/10 positive, 13/10 negative\n",
      "Do these records refer to the same thing?\n",
      "(y)es / (n)o / (u)nsure / (f)inished / (p)revious\n"
     ]
    },
    {
     "name": "stdout",
     "output_type": "stream",
     "text": [
      "n\n"
     ]
    },
    {
     "name": "stderr",
     "output_type": "stream",
     "text": [
      "Account_Name : fiserv\n",
      "Billing : wi\n",
      "Industry : technology\n",
      "\n",
      "Account_Name : fiserv\n",
      "Billing : il\n",
      "Industry : other\n",
      "\n",
      "7/10 positive, 14/10 negative\n",
      "Do these records refer to the same thing?\n",
      "(y)es / (n)o / (u)nsure / (f)inished / (p)revious\n"
     ]
    },
    {
     "name": "stdout",
     "output_type": "stream",
     "text": [
      "y\n"
     ]
    },
    {
     "name": "stderr",
     "output_type": "stream",
     "text": [
      "Account_Name : grand erie district school board\n",
      "Billing : ontario\n",
      "Industry : education\n",
      "\n",
      "Account_Name : upper grand district school board\n",
      "Billing : ontario\n",
      "Industry : education\n",
      "\n",
      "8/10 positive, 14/10 negative\n",
      "Do these records refer to the same thing?\n",
      "(y)es / (n)o / (u)nsure / (f)inished / (p)revious\n"
     ]
    },
    {
     "name": "stdout",
     "output_type": "stream",
     "text": [
      "u\n"
     ]
    },
    {
     "name": "stderr",
     "output_type": "stream",
     "text": [
      "Account_Name : ppc\n",
      "Billing : denmark\n",
      "Industry : technology\n",
      "\n",
      "Account_Name : ppc\n",
      "Billing : ny\n",
      "Industry : manufacturing\n",
      "\n",
      "8/10 positive, 14/10 negative\n",
      "Do these records refer to the same thing?\n",
      "(y)es / (n)o / (u)nsure / (f)inished / (p)revious\n"
     ]
    },
    {
     "name": "stdout",
     "output_type": "stream",
     "text": [
      "n\n"
     ]
    },
    {
     "name": "stderr",
     "output_type": "stream",
     "text": [
      "Account_Name : ndi s.a.\n",
      "Billing : out of usa and canada\n",
      "Industry : construction\n",
      "\n",
      "Account_Name : tarczynski s a\n",
      "Billing : out of usa and canada\n",
      "Industry : manufacturing\n",
      "\n",
      "8/10 positive, 15/10 negative\n",
      "Do these records refer to the same thing?\n",
      "(y)es / (n)o / (u)nsure / (f)inished / (p)revious\n"
     ]
    },
    {
     "name": "stdout",
     "output_type": "stream",
     "text": [
      "n\n"
     ]
    },
    {
     "name": "stderr",
     "output_type": "stream",
     "text": [
      "Account_Name : va region 2\n",
      "Billing : il\n",
      "Industry : healthcare\n",
      "\n",
      "Account_Name : va region 4 - northeast\n",
      "Billing : ny\n",
      "Industry : healthcare\n",
      "\n",
      "8/10 positive, 16/10 negative\n",
      "Do these records refer to the same thing?\n",
      "(y)es / (n)o / (u)nsure / (f)inished / (p)revious\n"
     ]
    },
    {
     "name": "stdout",
     "output_type": "stream",
     "text": [
      "y\n"
     ]
    },
    {
     "name": "stderr",
     "output_type": "stream",
     "text": [
      "Account_Name : lenovo group limited\n",
      "Billing : north carolina\n",
      "Industry : technology\n",
      "\n",
      "Account_Name : lenovo group limited\n",
      "Billing : hong kong\n",
      "Industry : healthcare\n",
      "\n",
      "9/10 positive, 16/10 negative\n",
      "Do these records refer to the same thing?\n",
      "(y)es / (n)o / (u)nsure / (f)inished / (p)revious\n"
     ]
    },
    {
     "name": "stdout",
     "output_type": "stream",
     "text": [
      "y\n"
     ]
    },
    {
     "name": "stderr",
     "output_type": "stream",
     "text": [
      "INFO:dedupe.training:Final predicate set:\n",
      "INFO:dedupe.training:(SimplePredicate: (commonSixGram, Account_Name), SimplePredicate: (wholeFieldPredicate, Account_Name))\n",
      "INFO:dedupe.training:(SimplePredicate: (hundredIntegersOddPredicate, Account_Name), SimplePredicate: (sameSevenCharStartPredicate, Account_Name))\n",
      "INFO:dedupe.training:(SimplePredicate: (twoGramFingerprint, Industry), SimplePredicate: (wholeFieldPredicate, Account_Name))\n",
      "INFO:dedupe.training:(SimplePredicate: (commonTwoTokens, Account_Name), SimplePredicate: (doubleMetaphone, Account_Name))\n",
      "INFO:dedupe.training:(TfidfTextCanopyPredicate: (0.6, Account_Name), TfidfTextCanopyPredicate: (0.8, Billing))\n",
      "Account_Name : link asset management limited\n",
      "Billing : kowloon\n",
      "Industry : consulting\n",
      "\n",
      "Account_Name : link asset management ltd\n",
      "Billing : hong kong\n",
      "Industry : consulting\n",
      "\n",
      "10/10 positive, 16/10 negative\n",
      "Do these records refer to the same thing?\n",
      "(y)es / (n)o / (u)nsure / (f)inished / (p)revious\n"
     ]
    },
    {
     "name": "stdout",
     "output_type": "stream",
     "text": [
      "y\n"
     ]
    },
    {
     "name": "stderr",
     "output_type": "stream",
     "text": [
      "Account_Name : security mutual life insurance company of new york\n",
      "Billing : ny\n",
      "Industry : banking & insurance\n",
      "\n",
      "Account_Name : the penn mutual life insurance company\n",
      "Billing : pa\n",
      "Industry : banking & insurance\n",
      "\n",
      "11/10 positive, 16/10 negative\n",
      "Do these records refer to the same thing?\n",
      "(y)es / (n)o / (u)nsure / (f)inished / (p)revious\n"
     ]
    },
    {
     "name": "stdout",
     "output_type": "stream",
     "text": [
      "n\n"
     ]
    },
    {
     "name": "stderr",
     "output_type": "stream",
     "text": [
      "INFO:dedupe.training:Final predicate set:\n",
      "INFO:dedupe.training:(SimplePredicate: (commonSixGram, Account_Name), SimplePredicate: (wholeFieldPredicate, Account_Name))\n",
      "INFO:dedupe.training:(SimplePredicate: (hundredIntegersOddPredicate, Account_Name), SimplePredicate: (sameSevenCharStartPredicate, Account_Name))\n",
      "INFO:dedupe.training:(TfidfNGramCanopyPredicate: (0.2, Billing), TfidfTextCanopyPredicate: (0.6, Account_Name))\n",
      "INFO:dedupe.training:(SimplePredicate: (twoGramFingerprint, Industry), SimplePredicate: (wholeFieldPredicate, Account_Name))\n",
      "INFO:dedupe.training:(SimplePredicate: (commonTwoTokens, Account_Name), SimplePredicate: (doubleMetaphone, Account_Name))\n",
      "Account_Name : adama\n",
      "Billing : na\n",
      "Industry : chemicals\n",
      "\n",
      "Account_Name : adama india private limited\n",
      "Billing : telangana\n",
      "Industry : chemicals\n",
      "\n",
      "11/10 positive, 17/10 negative\n",
      "Do these records refer to the same thing?\n",
      "(y)es / (n)o / (u)nsure / (f)inished / (p)revious\n"
     ]
    },
    {
     "name": "stdout",
     "output_type": "stream",
     "text": [
      "y\n"
     ]
    },
    {
     "name": "stderr",
     "output_type": "stream",
     "text": [
      "Account_Name : randstad pty limited (vedior asia pacific pty. limited)\n",
      "Billing : nsw\n",
      "Industry : consulting\n",
      "\n",
      "Account_Name : randstad usa\n",
      "Billing : ma\n",
      "Industry : consulting\n",
      "\n",
      "12/10 positive, 17/10 negative\n",
      "Do these records refer to the same thing?\n",
      "(y)es / (n)o / (u)nsure / (f)inished / (p)revious\n"
     ]
    },
    {
     "name": "stdout",
     "output_type": "stream",
     "text": [
      "f\n"
     ]
    },
    {
     "name": "stderr",
     "output_type": "stream",
     "text": [
      "Finished labeling\n",
      "INFO:dedupe.training:Final predicate set:\n",
      "INFO:dedupe.training:(SimplePredicate: (sameFiveCharStartPredicate, Account_Name), TfidfTextCanopyPredicate: (0.4, Account_Name))\n",
      "INFO:dedupe.training:(SimplePredicate: (commonTwoTokens, Account_Name), SimplePredicate: (doubleMetaphone, Account_Name))\n",
      "INFO:dedupe.training:(SimplePredicate: (hundredIntegersOddPredicate, Account_Name), SimplePredicate: (sameSevenCharStartPredicate, Account_Name))\n",
      "INFO:dedupe.training:(TfidfNGramCanopyPredicate: (0.2, Billing), TfidfTextCanopyPredicate: (0.6, Account_Name))\n"
     ]
    }
   ],
   "source": [
    "dedupe.consoleLabel(deduper)"
   ]
  },
  {
   "cell_type": "code",
   "execution_count": 70,
   "metadata": {},
   "outputs": [
    {
     "name": "stderr",
     "output_type": "stream",
     "text": [
      "INFO:rlr.crossvalidation:using cross validation to find optimum alpha...\n",
      "INFO:rlr.crossvalidation:optimum alpha: 0.000010, score 0.5570857334420573\n",
      "INFO:dedupe.training:Final predicate set:\n",
      "INFO:dedupe.training:(SimplePredicate: (sameFiveCharStartPredicate, Account_Name), TfidfTextCanopyPredicate: (0.4, Account_Name))\n",
      "INFO:dedupe.training:(SimplePredicate: (commonTwoTokens, Account_Name), SimplePredicate: (doubleMetaphone, Account_Name))\n",
      "INFO:dedupe.training:(SimplePredicate: (hundredIntegersOddPredicate, Account_Name), SimplePredicate: (sameSevenCharStartPredicate, Account_Name))\n",
      "INFO:dedupe.training:(TfidfNGramCanopyPredicate: (0.2, Billing), TfidfTextCanopyPredicate: (0.6, Account_Name))\n"
     ]
    }
   ],
   "source": [
    "deduper.train()"
   ]
  },
  {
   "cell_type": "code",
   "execution_count": 71,
   "metadata": {},
   "outputs": [],
   "source": [
    "with open(training_file, 'w') as tf:\n",
    "        deduper.writeTraining(tf)"
   ]
  },
  {
   "cell_type": "code",
   "execution_count": 72,
   "metadata": {},
   "outputs": [],
   "source": [
    " with open(settings_file, 'wb') as sf:\n",
    "        deduper.writeSettings(sf)"
   ]
  },
  {
   "cell_type": "code",
   "execution_count": 73,
   "metadata": {},
   "outputs": [
    {
     "name": "stderr",
     "output_type": "stream",
     "text": [
      "INFO:dedupe.canopy_index:Removing stop word of\n",
      "INFO:dedupe.canopy_index:Removing stop word inc\n",
      "INFO:dedupe.canopy_index:Removing stop word ltd\n",
      "INFO:dedupe.blocking:10000, 1.3983642 seconds\n",
      "INFO:dedupe.api:Maximum expected recall and precision\n",
      "INFO:dedupe.api:recall: 0.851\n",
      "INFO:dedupe.api:precision: 0.805\n",
      "INFO:dedupe.api:With threshold: 0.414\n"
     ]
    }
   ],
   "source": [
    "threshold = deduper.threshold(data_d, recall_weight=1)"
   ]
  },
  {
   "cell_type": "code",
   "execution_count": 74,
   "metadata": {},
   "outputs": [
    {
     "name": "stdout",
     "output_type": "stream",
     "text": [
      "clustering...\n"
     ]
    },
    {
     "name": "stderr",
     "output_type": "stream",
     "text": [
      "INFO:dedupe.canopy_index:Removing stop word of\n",
      "INFO:dedupe.canopy_index:Removing stop word inc\n",
      "INFO:dedupe.canopy_index:Removing stop word ltd\n",
      "INFO:dedupe.blocking:10000, 1.7214772 seconds\n"
     ]
    },
    {
     "name": "stdout",
     "output_type": "stream",
     "text": [
      "# duplicate sets 843\n"
     ]
    }
   ],
   "source": [
    "print('clustering...')\n",
    "clustered_dupes = deduper.match(data_d, threshold)\n",
    "\n",
    "print('# duplicate sets', len(clustered_dupes))"
   ]
  },
  {
   "cell_type": "code",
   "execution_count": 75,
   "metadata": {},
   "outputs": [],
   "source": [
    "cluster_membership = {}\n",
    "cluster_id = 0\n",
    "for (cluster_id, cluster) in enumerate(clustered_dupes):\n",
    "    id_set, scores = cluster\n",
    "    cluster_d = [data_d[c] for c in id_set]\n",
    "    canonical_rep = dedupe.canonicalize(cluster_d)\n",
    "    for record_id, score in zip(id_set, scores):\n",
    "        cluster_membership[record_id] = {\n",
    "            \"cluster id\" : cluster_id,\n",
    "            \"canonical representation\" : canonical_rep,\n",
    "            \"confidence\": score\n",
    "        }"
   ]
  },
  {
   "cell_type": "code",
   "execution_count": 76,
   "metadata": {},
   "outputs": [],
   "source": [
    "singleton_id = cluster_id + 1"
   ]
  },
  {
   "cell_type": "code",
   "execution_count": 77,
   "metadata": {},
   "outputs": [],
   "source": [
    "with open(output_file, 'w') as f_output, open(input_file) as f_input:\n",
    "    writer = csv.writer(f_output)\n",
    "    reader = csv.reader(f_input)\n",
    "\n",
    "    heading_row = next(reader)\n",
    "    heading_row.insert(0, 'confidence_score')\n",
    "    heading_row.insert(0, 'Cluster ID')\n",
    "    canonical_keys = canonical_rep.keys()\n",
    "    for key in canonical_keys:\n",
    "        heading_row.append('canonical_' + key)\n",
    "\n",
    "    writer.writerow(heading_row)\n",
    "\n",
    "    for row in reader:\n",
    "        row_id = int(row[0])\n",
    "        if row_id in cluster_membership:\n",
    "            cluster_id = cluster_membership[row_id][\"cluster id\"]\n",
    "            canonical_rep = cluster_membership[row_id][\"canonical representation\"]\n",
    "            row.insert(0, cluster_membership[row_id]['confidence'])\n",
    "            row.insert(0, cluster_id)\n",
    "            for key in canonical_keys:\n",
    "                row.append(canonical_rep[key].encode('utf8'))\n",
    "        else:\n",
    "            row.insert(0, None)\n",
    "            row.insert(0, singleton_id)\n",
    "            singleton_id += 1\n",
    "            for key in canonical_keys:\n",
    "                row.append(None)\n",
    "        writer.writerow(row)"
   ]
  },
  {
   "cell_type": "code",
   "execution_count": 78,
   "metadata": {},
   "outputs": [],
   "source": [
    "import pandas as pd"
   ]
  },
  {
   "cell_type": "code",
   "execution_count": 79,
   "metadata": {},
   "outputs": [
    {
     "data": {
      "text/html": [
       "<div>\n",
       "<table border=\"1\" class=\"dataframe\">\n",
       "  <thead>\n",
       "    <tr style=\"text-align: right;\">\n",
       "      <th></th>\n",
       "      <th>Cluster ID</th>\n",
       "      <th>confidence_score</th>\n",
       "      <th>﻿Id</th>\n",
       "      <th>id_2</th>\n",
       "      <th>Source</th>\n",
       "      <th>Account_Name</th>\n",
       "      <th>Billing</th>\n",
       "      <th>Industry</th>\n",
       "      <th>canonical_Id</th>\n",
       "      <th>canonical_id_2</th>\n",
       "      <th>canonical_Source</th>\n",
       "      <th>canonical_Account_Name</th>\n",
       "      <th>canonical_Billing</th>\n",
       "      <th>canonical_Industry</th>\n",
       "    </tr>\n",
       "  </thead>\n",
       "  <tbody>\n",
       "    <tr>\n",
       "      <th>0</th>\n",
       "      <td>843</td>\n",
       "      <td>NaN</td>\n",
       "      <td>0</td>\n",
       "      <td>1_LW</td>\n",
       "      <td>_LW</td>\n",
       "      <td>1-800-Battery, Inc</td>\n",
       "      <td>California</td>\n",
       "      <td>NaN</td>\n",
       "      <td>NaN</td>\n",
       "      <td>NaN</td>\n",
       "      <td>NaN</td>\n",
       "      <td>NaN</td>\n",
       "      <td>NaN</td>\n",
       "      <td>NaN</td>\n",
       "    </tr>\n",
       "    <tr>\n",
       "      <th>1</th>\n",
       "      <td>844</td>\n",
       "      <td>NaN</td>\n",
       "      <td>1</td>\n",
       "      <td>2 LW</td>\n",
       "      <td>LW</td>\n",
       "      <td>1SYNC</td>\n",
       "      <td>New Jersey</td>\n",
       "      <td>Technology</td>\n",
       "      <td>NaN</td>\n",
       "      <td>NaN</td>\n",
       "      <td>NaN</td>\n",
       "      <td>NaN</td>\n",
       "      <td>NaN</td>\n",
       "      <td>NaN</td>\n",
       "    </tr>\n",
       "    <tr>\n",
       "      <th>2</th>\n",
       "      <td>845</td>\n",
       "      <td>NaN</td>\n",
       "      <td>2</td>\n",
       "      <td>3 LW</td>\n",
       "      <td>LW</td>\n",
       "      <td>3M (fka CodeRyte)</td>\n",
       "      <td>Maryland</td>\n",
       "      <td>Technology</td>\n",
       "      <td>NaN</td>\n",
       "      <td>NaN</td>\n",
       "      <td>NaN</td>\n",
       "      <td>NaN</td>\n",
       "      <td>NaN</td>\n",
       "      <td>NaN</td>\n",
       "    </tr>\n",
       "    <tr>\n",
       "      <th>3</th>\n",
       "      <td>0</td>\n",
       "      <td>0.991215</td>\n",
       "      <td>3</td>\n",
       "      <td>4 LW</td>\n",
       "      <td>LW</td>\n",
       "      <td>A1 Telekom Austria AG</td>\n",
       "      <td>Vienna</td>\n",
       "      <td>Telecommunications</td>\n",
       "      <td>b'3'</td>\n",
       "      <td>b'4 lw'</td>\n",
       "      <td>b'lw'</td>\n",
       "      <td>b'a1 telekom austria ag'</td>\n",
       "      <td>b'vienna'</td>\n",
       "      <td>b'telecommunications'</td>\n",
       "    </tr>\n",
       "    <tr>\n",
       "      <th>4</th>\n",
       "      <td>846</td>\n",
       "      <td>NaN</td>\n",
       "      <td>4</td>\n",
       "      <td>5 LW</td>\n",
       "      <td>LW</td>\n",
       "      <td>AbbVie Inc.</td>\n",
       "      <td>Illinois</td>\n",
       "      <td>Healthcare &amp; Pharmaceuticals</td>\n",
       "      <td>NaN</td>\n",
       "      <td>NaN</td>\n",
       "      <td>NaN</td>\n",
       "      <td>NaN</td>\n",
       "      <td>NaN</td>\n",
       "      <td>NaN</td>\n",
       "    </tr>\n",
       "    <tr>\n",
       "      <th>5</th>\n",
       "      <td>847</td>\n",
       "      <td>NaN</td>\n",
       "      <td>5</td>\n",
       "      <td>6 LW</td>\n",
       "      <td>LW</td>\n",
       "      <td>Accenture Inc.</td>\n",
       "      <td>Illinois</td>\n",
       "      <td>Services,Technology</td>\n",
       "      <td>NaN</td>\n",
       "      <td>NaN</td>\n",
       "      <td>NaN</td>\n",
       "      <td>NaN</td>\n",
       "      <td>NaN</td>\n",
       "      <td>NaN</td>\n",
       "    </tr>\n",
       "    <tr>\n",
       "      <th>6</th>\n",
       "      <td>848</td>\n",
       "      <td>NaN</td>\n",
       "      <td>6</td>\n",
       "      <td>7 LW</td>\n",
       "      <td>LW</td>\n",
       "      <td>ACE Group</td>\n",
       "      <td>Pennsylvania</td>\n",
       "      <td>Financial</td>\n",
       "      <td>NaN</td>\n",
       "      <td>NaN</td>\n",
       "      <td>NaN</td>\n",
       "      <td>NaN</td>\n",
       "      <td>NaN</td>\n",
       "      <td>NaN</td>\n",
       "    </tr>\n",
       "    <tr>\n",
       "      <th>7</th>\n",
       "      <td>2</td>\n",
       "      <td>0.946273</td>\n",
       "      <td>7</td>\n",
       "      <td>8 LW</td>\n",
       "      <td>LW</td>\n",
       "      <td>Ace Hardware Corporation</td>\n",
       "      <td>Illinois</td>\n",
       "      <td>Services</td>\n",
       "      <td>b'7'</td>\n",
       "      <td>b'8 lw'</td>\n",
       "      <td>b'lw'</td>\n",
       "      <td>b'ace hardware corporation'</td>\n",
       "      <td>b'illinois'</td>\n",
       "      <td>b'services'</td>\n",
       "    </tr>\n",
       "    <tr>\n",
       "      <th>8</th>\n",
       "      <td>849</td>\n",
       "      <td>NaN</td>\n",
       "      <td>8</td>\n",
       "      <td>9 LW</td>\n",
       "      <td>LW</td>\n",
       "      <td>Aerospace Corporation</td>\n",
       "      <td>California</td>\n",
       "      <td>Consulting</td>\n",
       "      <td>NaN</td>\n",
       "      <td>NaN</td>\n",
       "      <td>NaN</td>\n",
       "      <td>NaN</td>\n",
       "      <td>NaN</td>\n",
       "      <td>NaN</td>\n",
       "    </tr>\n",
       "    <tr>\n",
       "      <th>9</th>\n",
       "      <td>850</td>\n",
       "      <td>NaN</td>\n",
       "      <td>9</td>\n",
       "      <td>10 LW</td>\n",
       "      <td>LW</td>\n",
       "      <td>Aetna Inc.</td>\n",
       "      <td>Connecticut</td>\n",
       "      <td>Financial,Healthcare &amp; Pharmaceuticals</td>\n",
       "      <td>NaN</td>\n",
       "      <td>NaN</td>\n",
       "      <td>NaN</td>\n",
       "      <td>NaN</td>\n",
       "      <td>NaN</td>\n",
       "      <td>NaN</td>\n",
       "    </tr>\n",
       "    <tr>\n",
       "      <th>10</th>\n",
       "      <td>851</td>\n",
       "      <td>NaN</td>\n",
       "      <td>10</td>\n",
       "      <td>11 LW</td>\n",
       "      <td>LW</td>\n",
       "      <td>Age of Learning</td>\n",
       "      <td>California</td>\n",
       "      <td>Software</td>\n",
       "      <td>NaN</td>\n",
       "      <td>NaN</td>\n",
       "      <td>NaN</td>\n",
       "      <td>NaN</td>\n",
       "      <td>NaN</td>\n",
       "      <td>NaN</td>\n",
       "    </tr>\n",
       "    <tr>\n",
       "      <th>11</th>\n",
       "      <td>852</td>\n",
       "      <td>NaN</td>\n",
       "      <td>11</td>\n",
       "      <td>12 LW</td>\n",
       "      <td>LW</td>\n",
       "      <td>Allstate Corporation</td>\n",
       "      <td>Illinois</td>\n",
       "      <td>Financial</td>\n",
       "      <td>NaN</td>\n",
       "      <td>NaN</td>\n",
       "      <td>NaN</td>\n",
       "      <td>NaN</td>\n",
       "      <td>NaN</td>\n",
       "      <td>NaN</td>\n",
       "    </tr>\n",
       "    <tr>\n",
       "      <th>12</th>\n",
       "      <td>853</td>\n",
       "      <td>NaN</td>\n",
       "      <td>12</td>\n",
       "      <td>13 LW</td>\n",
       "      <td>LW</td>\n",
       "      <td>AMA</td>\n",
       "      <td>Illinois</td>\n",
       "      <td>Associations</td>\n",
       "      <td>NaN</td>\n",
       "      <td>NaN</td>\n",
       "      <td>NaN</td>\n",
       "      <td>NaN</td>\n",
       "      <td>NaN</td>\n",
       "      <td>NaN</td>\n",
       "    </tr>\n",
       "    <tr>\n",
       "      <th>13</th>\n",
       "      <td>3</td>\n",
       "      <td>0.976129</td>\n",
       "      <td>13</td>\n",
       "      <td>14 LW</td>\n",
       "      <td>LW</td>\n",
       "      <td>Amdocs</td>\n",
       "      <td>Missouri</td>\n",
       "      <td>Technology</td>\n",
       "      <td>b'13'</td>\n",
       "      <td>b'14 lw'</td>\n",
       "      <td>b'lw'</td>\n",
       "      <td>b'amdocs'</td>\n",
       "      <td>b'missouri'</td>\n",
       "      <td>b'technology'</td>\n",
       "    </tr>\n",
       "    <tr>\n",
       "      <th>14</th>\n",
       "      <td>854</td>\n",
       "      <td>NaN</td>\n",
       "      <td>14</td>\n",
       "      <td>15 LW</td>\n",
       "      <td>LW</td>\n",
       "      <td>American Express Company</td>\n",
       "      <td>New York</td>\n",
       "      <td>Financial,Services</td>\n",
       "      <td>NaN</td>\n",
       "      <td>NaN</td>\n",
       "      <td>NaN</td>\n",
       "      <td>NaN</td>\n",
       "      <td>NaN</td>\n",
       "      <td>NaN</td>\n",
       "    </tr>\n",
       "    <tr>\n",
       "      <th>15</th>\n",
       "      <td>5</td>\n",
       "      <td>0.000001</td>\n",
       "      <td>15</td>\n",
       "      <td>16 LW</td>\n",
       "      <td>LW</td>\n",
       "      <td>American Health Information Management</td>\n",
       "      <td>Illinois</td>\n",
       "      <td>Not For Profit</td>\n",
       "      <td>b'15'</td>\n",
       "      <td>b'16 lw'</td>\n",
       "      <td>b'lw'</td>\n",
       "      <td>b'american health information management'</td>\n",
       "      <td>b'illinois'</td>\n",
       "      <td>b'not for profit'</td>\n",
       "    </tr>\n",
       "    <tr>\n",
       "      <th>16</th>\n",
       "      <td>855</td>\n",
       "      <td>NaN</td>\n",
       "      <td>16</td>\n",
       "      <td>17 LW</td>\n",
       "      <td>LW</td>\n",
       "      <td>Amerigroup</td>\n",
       "      <td>Virginia</td>\n",
       "      <td>Managed Care</td>\n",
       "      <td>NaN</td>\n",
       "      <td>NaN</td>\n",
       "      <td>NaN</td>\n",
       "      <td>NaN</td>\n",
       "      <td>NaN</td>\n",
       "      <td>NaN</td>\n",
       "    </tr>\n",
       "    <tr>\n",
       "      <th>17</th>\n",
       "      <td>6</td>\n",
       "      <td>0.835163</td>\n",
       "      <td>17</td>\n",
       "      <td>18 LW</td>\n",
       "      <td>LW</td>\n",
       "      <td>Amgen Inc.</td>\n",
       "      <td>California</td>\n",
       "      <td>Healthcare &amp; Pharmaceuticals</td>\n",
       "      <td>b'17'</td>\n",
       "      <td>b'18 lw'</td>\n",
       "      <td>b'lw'</td>\n",
       "      <td>b'amgen inc.'</td>\n",
       "      <td>b'california'</td>\n",
       "      <td>b'healthcare &amp; pharmaceuticals'</td>\n",
       "    </tr>\n",
       "    <tr>\n",
       "      <th>18</th>\n",
       "      <td>7</td>\n",
       "      <td>0.778424</td>\n",
       "      <td>18</td>\n",
       "      <td>19 LW</td>\n",
       "      <td>LW</td>\n",
       "      <td>Apple Inc.</td>\n",
       "      <td>California</td>\n",
       "      <td>Technology</td>\n",
       "      <td>b'18'</td>\n",
       "      <td>b'19 lw'</td>\n",
       "      <td>b'lw'</td>\n",
       "      <td>b'apple inc.'</td>\n",
       "      <td>b'california'</td>\n",
       "      <td>b'technology'</td>\n",
       "    </tr>\n",
       "    <tr>\n",
       "      <th>19</th>\n",
       "      <td>8</td>\n",
       "      <td>0.016113</td>\n",
       "      <td>19</td>\n",
       "      <td>20 LW</td>\n",
       "      <td>LW</td>\n",
       "      <td>Arrow Electronics, Inc.</td>\n",
       "      <td>Colorado</td>\n",
       "      <td>Services,Technology</td>\n",
       "      <td>b'19'</td>\n",
       "      <td>b'20 lw'</td>\n",
       "      <td>b'lw'</td>\n",
       "      <td>b'arrow electronics, inc.'</td>\n",
       "      <td>b'colorado'</td>\n",
       "      <td>b'services,technology'</td>\n",
       "    </tr>\n",
       "  </tbody>\n",
       "</table>\n",
       "</div>"
      ],
      "text/plain": [
       "    Cluster ID  confidence_score  ﻿Id   id_2 Source  \\\n",
       "0          843               NaN    0   1_LW    _LW   \n",
       "1          844               NaN    1   2 LW     LW   \n",
       "2          845               NaN    2   3 LW     LW   \n",
       "3            0          0.991215    3   4 LW     LW   \n",
       "4          846               NaN    4   5 LW     LW   \n",
       "5          847               NaN    5   6 LW     LW   \n",
       "6          848               NaN    6   7 LW     LW   \n",
       "7            2          0.946273    7   8 LW     LW   \n",
       "8          849               NaN    8   9 LW     LW   \n",
       "9          850               NaN    9  10 LW     LW   \n",
       "10         851               NaN   10  11 LW     LW   \n",
       "11         852               NaN   11  12 LW     LW   \n",
       "12         853               NaN   12  13 LW     LW   \n",
       "13           3          0.976129   13  14 LW     LW   \n",
       "14         854               NaN   14  15 LW     LW   \n",
       "15           5          0.000001   15  16 LW     LW   \n",
       "16         855               NaN   16  17 LW     LW   \n",
       "17           6          0.835163   17  18 LW     LW   \n",
       "18           7          0.778424   18  19 LW     LW   \n",
       "19           8          0.016113   19  20 LW     LW   \n",
       "\n",
       "                              Account_Name       Billing  \\\n",
       "0                       1-800-Battery, Inc    California   \n",
       "1                                    1SYNC    New Jersey   \n",
       "2                        3M (fka CodeRyte)      Maryland   \n",
       "3                    A1 Telekom Austria AG        Vienna   \n",
       "4                              AbbVie Inc.      Illinois   \n",
       "5                           Accenture Inc.      Illinois   \n",
       "6                                ACE Group  Pennsylvania   \n",
       "7                 Ace Hardware Corporation      Illinois   \n",
       "8                    Aerospace Corporation    California   \n",
       "9                               Aetna Inc.   Connecticut   \n",
       "10                         Age of Learning    California   \n",
       "11                    Allstate Corporation      Illinois   \n",
       "12                                     AMA      Illinois   \n",
       "13                                  Amdocs      Missouri   \n",
       "14                American Express Company      New York   \n",
       "15  American Health Information Management      Illinois   \n",
       "16                              Amerigroup      Virginia   \n",
       "17                              Amgen Inc.    California   \n",
       "18                              Apple Inc.    California   \n",
       "19                 Arrow Electronics, Inc.      Colorado   \n",
       "\n",
       "                                  Industry canonical_Id canonical_id_2  \\\n",
       "0                                      NaN          NaN            NaN   \n",
       "1                               Technology          NaN            NaN   \n",
       "2                               Technology          NaN            NaN   \n",
       "3                       Telecommunications         b'3'        b'4 lw'   \n",
       "4             Healthcare & Pharmaceuticals          NaN            NaN   \n",
       "5                      Services,Technology          NaN            NaN   \n",
       "6                                Financial          NaN            NaN   \n",
       "7                                 Services         b'7'        b'8 lw'   \n",
       "8                               Consulting          NaN            NaN   \n",
       "9   Financial,Healthcare & Pharmaceuticals          NaN            NaN   \n",
       "10                                Software          NaN            NaN   \n",
       "11                               Financial          NaN            NaN   \n",
       "12                            Associations          NaN            NaN   \n",
       "13                              Technology        b'13'       b'14 lw'   \n",
       "14                      Financial,Services          NaN            NaN   \n",
       "15                          Not For Profit        b'15'       b'16 lw'   \n",
       "16                            Managed Care          NaN            NaN   \n",
       "17            Healthcare & Pharmaceuticals        b'17'       b'18 lw'   \n",
       "18                              Technology        b'18'       b'19 lw'   \n",
       "19                     Services,Technology        b'19'       b'20 lw'   \n",
       "\n",
       "   canonical_Source                     canonical_Account_Name  \\\n",
       "0               NaN                                        NaN   \n",
       "1               NaN                                        NaN   \n",
       "2               NaN                                        NaN   \n",
       "3             b'lw'                   b'a1 telekom austria ag'   \n",
       "4               NaN                                        NaN   \n",
       "5               NaN                                        NaN   \n",
       "6               NaN                                        NaN   \n",
       "7             b'lw'                b'ace hardware corporation'   \n",
       "8               NaN                                        NaN   \n",
       "9               NaN                                        NaN   \n",
       "10              NaN                                        NaN   \n",
       "11              NaN                                        NaN   \n",
       "12              NaN                                        NaN   \n",
       "13            b'lw'                                  b'amdocs'   \n",
       "14              NaN                                        NaN   \n",
       "15            b'lw'  b'american health information management'   \n",
       "16              NaN                                        NaN   \n",
       "17            b'lw'                              b'amgen inc.'   \n",
       "18            b'lw'                              b'apple inc.'   \n",
       "19            b'lw'                 b'arrow electronics, inc.'   \n",
       "\n",
       "   canonical_Billing               canonical_Industry  \n",
       "0                NaN                              NaN  \n",
       "1                NaN                              NaN  \n",
       "2                NaN                              NaN  \n",
       "3          b'vienna'            b'telecommunications'  \n",
       "4                NaN                              NaN  \n",
       "5                NaN                              NaN  \n",
       "6                NaN                              NaN  \n",
       "7        b'illinois'                      b'services'  \n",
       "8                NaN                              NaN  \n",
       "9                NaN                              NaN  \n",
       "10               NaN                              NaN  \n",
       "11               NaN                              NaN  \n",
       "12               NaN                              NaN  \n",
       "13       b'missouri'                    b'technology'  \n",
       "14               NaN                              NaN  \n",
       "15       b'illinois'                b'not for profit'  \n",
       "16               NaN                              NaN  \n",
       "17     b'california'  b'healthcare & pharmaceuticals'  \n",
       "18     b'california'                    b'technology'  \n",
       "19       b'colorado'           b'services,technology'  "
      ]
     },
     "execution_count": 79,
     "metadata": {},
     "output_type": "execute_result"
    }
   ],
   "source": [
    "dfOutput = pd.read_csv(output_file)\n",
    "dfOutput.head(20)"
   ]
  },
  {
   "cell_type": "code",
   "execution_count": 82,
   "metadata": {},
   "outputs": [],
   "source": [
    "#dfOutput.groupby(['Cluster ID']).count()\n",
    "dfOutput.to_csv("
   ]
  }
 ],
 "metadata": {
  "kernelspec": {
   "display_name": "Python 3",
   "language": "python",
   "name": "python3"
  },
  "language_info": {
   "codemirror_mode": {
    "name": "ipython",
    "version": 3
   },
   "file_extension": ".py",
   "mimetype": "text/x-python",
   "name": "python",
   "nbconvert_exporter": "python",
   "pygments_lexer": "ipython3",
   "version": "3.6.3"
  }
 },
 "nbformat": 4,
 "nbformat_minor": 2
}
